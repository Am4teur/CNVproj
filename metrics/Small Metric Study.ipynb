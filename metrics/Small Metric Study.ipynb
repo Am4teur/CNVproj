{
 "cells": [
  {
   "cell_type": "code",
   "execution_count": 435,
   "metadata": {},
   "outputs": [],
   "source": [
    "import os\n",
    "import numpy as np"
   ]
  },
  {
   "cell_type": "code",
   "execution_count": 471,
   "metadata": {},
   "outputs": [],
   "source": [
    "# file_paths=[\"./BD_ICount_DLX.txt\",\"./BD_ICount_CP.txt\",\"./BD_ICount_BFS.txt\"][2:3]\n",
    "# file_paths=[\"BD_StatLS_BFS.txt\",\"./BD_ICount_BFS.txt\",\"BD_StatBranch_BFS.txt\",\"BD_Methods_BFS.txt\"]\n",
    "# file_paths=[\"BD_StatLS_DLX.txt\",\"./BD_ICount_DLX.txt\",\"BD_StatBranch_DLX.txt\",\"BD_Methods_DLX.txt\"]\n",
    "file_paths=[\"BD_StatLS_CP.txt\",\"./BD_ICount_CP.txt\",\"BD_StatBranch_CP.txt\",\"BD_Methods_CP.txt\"]\n",
    "# file_paths=[\"BD_StatLS_CP.txt\",\"./BD_ICount_CP.txt\",\"BD_StatBranch_CP.txt\",\"BD_StatLS_BFS.txt\",\"./BD_ICount_BFS.txt\",\"BD_StatBranch_BFS.txt\",\"BD_StatLS_DLX.txt\",\"./BD_ICount_DLX.txt\",\"BD_StatBranch_DLX.txt\",]"
   ]
  },
  {
   "cell_type": "code",
   "execution_count": 472,
   "metadata": {},
   "outputs": [],
   "source": [
    "lines=[]\n",
    "\n",
    "for file_path in file_paths:\n",
    "    with open(file_path,\"r\") as f:\n",
    "        lines+=f.readlines()\n"
   ]
  },
  {
   "cell_type": "code",
   "execution_count": 473,
   "metadata": {},
   "outputs": [
    {
     "data": {
      "text/plain": [
       "['> Query:\\ts=CP&un=81&n1=9&n2=9&i=SUDOKU_PUZZLE_9x9_101\\n',\n",
       " 'Load Store Summary:\\n',\n",
       " 'Field load:      3187\\n',\n",
       " 'Field store: 20\\n',\n",
       " 'Regular load: 34720820\\n',\n",
       " 'Regular store: 34696592\\n',\n",
       " '\\n',\n",
       " '\\n',\n",
       " '> Query:\\ts=CP&un=81&n1=9&n2=9&i=SUDOKU_PUZZLE_9x9_102\\n',\n",
       " 'Load Store Summary:\\n',\n",
       " 'Field load:      3384\\n',\n",
       " 'Field store: 7\\n',\n",
       " 'Regular load: 36780316\\n',\n",
       " 'Regular store: 36754825\\n',\n",
       " '\\n',\n",
       " '\\n',\n",
       " '> Query:\\ts=CP&un=81&n1=9&n2=9&i=SUDOKU_PUZZLE_9x9_103\\n',\n",
       " 'Load Store Summary:\\n',\n",
       " 'Field load:      4248\\n',\n",
       " 'Field store: 7\\n',\n",
       " 'Regular load: 50018871\\n',\n",
       " 'Regular store: 49986390\\n',\n",
       " '\\n',\n",
       " '\\n',\n",
       " '> Query:\\ts=CP&un=81&n1=9&n2=9&i=SUDOKU_PUZZLE_9x9_104\\n',\n",
       " 'Load Store Summary:\\n',\n",
       " 'Field load:      3260\\n',\n",
       " 'Field store: 7\\n',\n",
       " 'Regular load: 33838708\\n',\n",
       " 'Regular store: 33814510\\n',\n",
       " '\\n',\n",
       " '\\n',\n",
       " '> Query:\\ts=CP&un=81&n1=9&n2=9&i=SUDOKU_PUZZLE_9x9_105\\n',\n",
       " 'Load Store Summary:\\n',\n",
       " 'Field load:      3409\\n',\n",
       " 'Field store: 7\\n',\n",
       " 'Regular load: 39133438\\n',\n",
       " 'Regular store: 39107118\\n',\n",
       " '\\n',\n",
       " '\\n',\n",
       " '> Query:\\ts=CP&un=256&n1=16&n2=16&i=SUDOKU_PUZZLE_16x16_01\\n',\n",
       " 'Load Store Summary:\\n',\n",
       " 'Field load:      22171\\n',\n",
       " 'Field store: 7\\n',\n",
       " 'Regular load: 188326251\\n',\n",
       " 'Regular store: 188183264\\n',\n",
       " '\\n',\n",
       " '\\n',\n",
       " '> Query:\\ts=CP&un=256&n1=16&n2=16&i=SUDOKU_PUZZLE_16x16_02\\n',\n",
       " 'Load Store Summary:\\n',\n",
       " 'Field load:      42453\\n',\n",
       " 'Field store: 7\\n',\n",
       " 'Regular load: 392224286\\n',\n",
       " 'Regular store: 391949165\\n',\n",
       " '\\n',\n",
       " '\\n',\n",
       " '> Query:\\ts=CP&un=256&n1=16&n2=16&i=SUDOKU_PUZZLE_16x16_03\\n',\n",
       " 'Load Store Summary:\\n',\n",
       " 'Field load:      17629\\n',\n",
       " 'Field store: 7\\n',\n",
       " 'Regular load: 148015624\\n',\n",
       " 'Regular store: 147900599\\n',\n",
       " '\\n',\n",
       " '\\n',\n",
       " '> Query:\\ts=CP&un=256&n1=16&n2=16&i=SUDOKU_PUZZLE_16x16_04\\n',\n",
       " 'Load Store Summary:\\n',\n",
       " 'Field load:      17799\\n',\n",
       " 'Field store: 7\\n',\n",
       " 'Regular load: 153310437\\n',\n",
       " 'Regular store: 153193201\\n',\n",
       " '\\n',\n",
       " '\\n',\n",
       " '> Query:\\ts=CP&un=625&n1=25&n2=25&i=SUDOKU_PUZZLE_16x16_06\\n',\n",
       " 'Load Store Summary:\\n',\n",
       " 'Field load:      84744\\n',\n",
       " 'Field store: 7\\n',\n",
       " 'Regular load: 582387277\\n',\n",
       " 'Regular store: 581896328\\n',\n",
       " '\\n',\n",
       " '\\n',\n",
       " '> Query:\\ts=CP&un=625&n1=25&n2=25&i=SUDOKU_PUZZLE_25x25_01\\n',\n",
       " 'Load Store Summary:\\n',\n",
       " 'Field load:      84744\\n',\n",
       " 'Field store: 7\\n',\n",
       " 'Regular load: 582387277\\n',\n",
       " 'Regular store: 581896328',\n",
       " '> Query:\\ts=CP&un=81&n1=9&n2=9&i=SUDOKU_PUZZLE_9x9_101\\n',\n",
       " '> ICounter:\\t242925929\\n',\n",
       " '> BCounter:\\t104101995\\n',\n",
       " '> MCounter:\\t712\\n',\n",
       " '\\n',\n",
       " '\\n',\n",
       " '> Query:\\ts=CP&un=81&n1=9&n2=9&i=SUDOKU_PUZZLE_9x9_102\\n',\n",
       " '> ICounter:\\t257336219\\n',\n",
       " '> BCounter:\\t110277381\\n',\n",
       " '> MCounter:\\t728\\n',\n",
       " '\\n',\n",
       " '\\n',\n",
       " '> Query:\\ts=CP&un=81&n1=9&n2=9&i=SUDOKU_PUZZLE_9x9_103\\n',\n",
       " '> ICounter:\\t349971243\\n',\n",
       " '> BCounter:\\t149975617\\n',\n",
       " '> MCounter:\\t830\\n',\n",
       " '\\n',\n",
       " '\\n',\n",
       " '> Query:\\ts=CP&un=81&n1=9&n2=9&i=SUDOKU_PUZZLE_9x9_104\\n',\n",
       " '> ICounter:\\t236751531\\n',\n",
       " '> BCounter:\\t101455681\\n',\n",
       " '> MCounter:\\t712\\n',\n",
       " '\\n',\n",
       " '\\n',\n",
       " '> Query:\\ts=CP&un=81&n1=9&n2=9&i=SUDOKU_PUZZLE_9x9_105\\n',\n",
       " '> ICounter:\\t273803939\\n',\n",
       " '> BCounter:\\t117334668\\n',\n",
       " '> MCounter:\\t752\\n',\n",
       " '\\n',\n",
       " '\\n',\n",
       " '> Query:\\ts=CP&un=256&n1=16&n2=16&i=SUDOKU_PUZZLE_16x16_01\\n',\n",
       " '> ICounter:\\t1317576543\\n',\n",
       " '> BCounter:\\t564621713\\n',\n",
       " '> MCounter:\\t2681\\n',\n",
       " '\\n',\n",
       " '\\n',\n",
       " '> Query:\\ts=CP&un=256&n1=16&n2=16&i=SUDOKU_PUZZLE_16x16_02\\n',\n",
       " '> ICounter:\\t2744203400\\n',\n",
       " '> BCounter:\\t1175984672\\n',\n",
       " '> MCounter:\\t4275\\n',\n",
       " '\\n',\n",
       " '\\n',\n",
       " '> Query:\\ts=CP&un=256&n1=16&n2=16&i=SUDOKU_PUZZLE_16x16_03\\n',\n",
       " '> ICounter:\\t1035542545\\n',\n",
       " '> BCounter:\\t443759807\\n',\n",
       " '> MCounter:\\t2390\\n',\n",
       " '\\n',\n",
       " '\\n',\n",
       " '> Query:\\ts=CP&un=256&n1=16&n2=16&i=SUDOKU_PUZZLE_16x16_04\\n',\n",
       " '> ICounter:\\t1072594961\\n',\n",
       " '> BCounter:\\t459638824\\n',\n",
       " '> MCounter:\\t2429\\n',\n",
       " '\\n',\n",
       " '\\n',\n",
       " '> Query:\\ts=CP&un=625&n1=25&n2=25&i=SUDOKU_PUZZLE_16x16_06\\n',\n",
       " '> ICounter:\\t4074278913\\n',\n",
       " '> BCounter:\\t1745930544\\n',\n",
       " '> MCounter:\\t7307\\n',\n",
       " '\\n',\n",
       " '\\n',\n",
       " '> Query:\\ts=CP&un=625&n1=25&n2=25&i=SUDOKU_PUZZLE_25x25_01\\n',\n",
       " '> ICounter:\\t4074278913\\n',\n",
       " '> BCounter:\\t1745930544\\n',\n",
       " '> MCounter:\\t7307',\n",
       " '> Query:\\ts=CP&un=81&n1=9&n2=9&i=SUDOKU_PUZZLE_9x9_101\\n',\n",
       " 'Taken: 34697599\\n',\n",
       " 'Not Taken: 5161\\n',\n",
       " '\\n',\n",
       " '\\n',\n",
       " '> Query:\\ts=CP&un=81&n1=9&n2=9&i=SUDOKU_PUZZLE_9x9_102\\n',\n",
       " 'Taken: 36755910\\n',\n",
       " 'Not Taken: 5469\\n',\n",
       " '\\n',\n",
       " '\\n',\n",
       " '> Query:\\ts=CP&un=81&n1=9&n2=9&i=SUDOKU_PUZZLE_9x9_103\\n',\n",
       " 'Taken: 49987708\\n',\n",
       " 'Not Taken: 7201\\n',\n",
       " '\\n',\n",
       " '\\n',\n",
       " '> Query:\\ts=CP&un=81&n1=9&n2=9&i=SUDOKU_PUZZLE_9x9_104\\n',\n",
       " 'Taken: 33815535\\n',\n",
       " 'Not Taken: 5136\\n',\n",
       " '\\n',\n",
       " '\\n',\n",
       " '> Query:\\ts=CP&un=81&n1=9&n2=9&i=SUDOKU_PUZZLE_9x9_105\\n',\n",
       " 'Taken: 39108164\\n',\n",
       " 'Not Taken: 5720\\n',\n",
       " '\\n',\n",
       " '\\n',\n",
       " '> Query:\\ts=CP&un=256&n1=16&n2=16&i=SUDOKU_PUZZLE_16x16_01\\n',\n",
       " 'Taken: 188192173\\n',\n",
       " 'Not Taken: 29806\\n',\n",
       " '\\n',\n",
       " '\\n',\n",
       " '> Query:\\ts=CP&un=256&n1=16&n2=16&i=SUDOKU_PUZZLE_16x16_02\\n',\n",
       " 'Taken: 391965473\\n',\n",
       " 'Not Taken: 59663\\n',\n",
       " '\\n',\n",
       " '\\n',\n",
       " '> Query:\\ts=CP&un=256&n1=16&n2=16&i=SUDOKU_PUZZLE_16x16_03\\n',\n",
       " 'Taken: 147907706\\n',\n",
       " 'Not Taken: 23603\\n',\n",
       " '\\n',\n",
       " '\\n',\n",
       " '> Query:\\ts=CP&un=256&n1=16&n2=16&i=SUDOKU_PUZZLE_16x16_04\\n',\n",
       " 'Taken: 153200338\\n',\n",
       " 'Not Taken: 24209\\n',\n",
       " '\\n',\n",
       " '\\n',\n",
       " '> Query:\\ts=CP&un=625&n1=25&n2=25&i=SUDOKU_PUZZLE_16x16_06\\n',\n",
       " 'Taken: 581932058\\n',\n",
       " 'Not Taken: 99177\\n',\n",
       " '\\n',\n",
       " '\\n',\n",
       " '> Query:\\ts=CP&un=625&n1=25&n2=25&i=SUDOKU_PUZZLE_25x25_01\\n',\n",
       " 'Taken: 581932058\\n',\n",
       " 'Not Taken: 99177',\n",
       " '> Query:\\ts=CP&un=81&n1=9&n2=9&i=SUDOKU_PUZZLE_9x9_101\\n',\n",
       " 'Time:            1172.4007 ms\\n',\n",
       " 'Methods:         706\\n',\n",
       " '\\n',\n",
       " '\\n',\n",
       " '> Query:\\ts=CP&un=81&n1=9&n2=9&i=SUDOKU_PUZZLE_9x9_102\\n',\n",
       " 'Time:            1130.4103 ms\\n',\n",
       " 'Methods:         722\\n',\n",
       " '\\n',\n",
       " '\\n',\n",
       " '> Query:\\ts=CP&un=81&n1=9&n2=9&i=SUDOKU_PUZZLE_9x9_103\\n',\n",
       " 'Time:            1500.4859 ms\\n',\n",
       " 'Methods:         824\\n',\n",
       " '\\n',\n",
       " '\\n',\n",
       " '> Query:\\ts=CP&un=81&n1=9&n2=9&i=SUDOKU_PUZZLE_9x9_104\\n',\n",
       " 'Time:            1038.3551 ms\\n',\n",
       " 'Methods:         706\\n',\n",
       " '\\n',\n",
       " '\\n',\n",
       " '> Query:\\ts=CP&un=81&n1=9&n2=9&i=SUDOKU_PUZZLE_9x9_105\\n',\n",
       " 'Time:            1180.5589 ms\\n',\n",
       " 'Methods:         746\\n',\n",
       " '\\n',\n",
       " '\\n',\n",
       " '> Query:\\ts=CP&un=256&n1=16&n2=16&i=SUDOKU_PUZZLE_16x16_01\\n',\n",
       " 'Time:            5655.0427 ms\\n',\n",
       " 'Methods:         2675\\n',\n",
       " '\\n',\n",
       " '\\n',\n",
       " '> Query:\\ts=CP&un=256&n1=16&n2=16&i=SUDOKU_PUZZLE_16x16_02\\n',\n",
       " 'Time:            11473.617999999999 ms\\n',\n",
       " 'Methods:         4269\\n',\n",
       " '\\n',\n",
       " '\\n',\n",
       " '> Query:\\ts=CP&un=256&n1=16&n2=16&i=SUDOKU_PUZZLE_16x16_03\\n',\n",
       " 'Time:            4346.7471 ms\\n',\n",
       " 'Methods:         2384\\n',\n",
       " '\\n',\n",
       " '\\n',\n",
       " '> Query:\\ts=CP&un=256&n1=16&n2=16&i=SUDOKU_PUZZLE_16x16_04\\n',\n",
       " 'Time:            4469.5809 ms\\n',\n",
       " 'Methods:         2423\\n',\n",
       " '\\n',\n",
       " '\\n',\n",
       " '> Query:\\ts=CP&un=625&n1=25&n2=25&i=SUDOKU_PUZZLE_16x16_05\\n',\n",
       " 'Time:            37071.085 ms\\n',\n",
       " '#Methods:         12186\\n',\n",
       " '\\n',\n",
       " '\\n',\n",
       " '> Query:\\ts=CP&un=625&n1=25&n2=25&i=SUDOKU_PUZZLE_16x16_06\\n',\n",
       " 'Time:            17152.8047 ms\\n',\n",
       " 'Methods:         7301\\n',\n",
       " '\\n',\n",
       " '\\n',\n",
       " '> Query:\\ts=CP&un=625&n1=25&n2=25&i=SUDOKU_PUZZLE_25x25_01\\n',\n",
       " 'Time:            17121.346999999998 ms\\n',\n",
       " 'Methods:         7301\\n',\n",
       " '\\n',\n",
       " '\\n',\n",
       " '> Query:\\ts=CP&un=81&n1=9&n2=9&i=SUDOKU_PUZZLE_9x9_101\\n',\n",
       " 'Time:            1065.8798 ms\\n',\n",
       " 'Methods:         706\\n',\n",
       " '\\n',\n",
       " '\\n',\n",
       " '> Query:\\ts=CP&un=81&n1=9&n2=9&i=SUDOKU_PUZZLE_9x9_102\\n',\n",
       " 'Time:            1101.1706 ms\\n',\n",
       " 'Methods:         722\\n',\n",
       " '\\n',\n",
       " '\\n',\n",
       " '> Query:\\ts=CP&un=81&n1=9&n2=9&i=SUDOKU_PUZZLE_9x9_103\\n',\n",
       " 'Time:            1498.7821 ms\\n',\n",
       " 'Methods:         824\\n',\n",
       " '\\n',\n",
       " '\\n',\n",
       " '> Query:\\ts=CP&un=81&n1=9&n2=9&i=SUDOKU_PUZZLE_9x9_104\\n',\n",
       " 'Time:            1008.8873 ms\\n',\n",
       " 'Methods:         706\\n',\n",
       " '\\n',\n",
       " '\\n',\n",
       " '> Query:\\ts=CP&un=81&n1=9&n2=9&i=SUDOKU_PUZZLE_9x9_105\\n',\n",
       " 'Time:            1294.3066 ms\\n',\n",
       " 'Methods:         746\\n',\n",
       " '\\n',\n",
       " '\\n',\n",
       " '> Query:\\ts=CP&un=256&n1=16&n2=16&i=SUDOKU_PUZZLE_16x16_01\\n',\n",
       " 'Time:            5631.851 ms\\n',\n",
       " 'Methods:         2675\\n',\n",
       " '\\n',\n",
       " '\\n',\n",
       " '> Query:\\ts=CP&un=256&n1=16&n2=16&i=SUDOKU_PUZZLE_16x16_02\\n',\n",
       " 'Time:            11417.1032 ms\\n',\n",
       " 'Methods:         4269\\n',\n",
       " '\\n',\n",
       " '\\n',\n",
       " '> Query:\\ts=CP&un=256&n1=16&n2=16&i=SUDOKU_PUZZLE_16x16_03\\n',\n",
       " 'Time:            4356.0444 ms\\n',\n",
       " 'Methods:         2384\\n',\n",
       " '\\n',\n",
       " '\\n',\n",
       " '> Query:\\ts=CP&un=256&n1=16&n2=16&i=SUDOKU_PUZZLE_16x16_04\\n',\n",
       " 'Time:            4478.0965 ms\\n',\n",
       " 'Methods:         2423\\n',\n",
       " '\\n',\n",
       " '\\n',\n",
       " '> Query:\\ts=CP&un=625&n1=25&n2=25&i=SUDOKU_PUZZLE_16x16_05\\n',\n",
       " 'Time:            36988.060099999995 ms\\n',\n",
       " 'Methods:         12186\\n',\n",
       " '\\n',\n",
       " '\\n',\n",
       " '> Query:\\ts=CP&un=625&n1=25&n2=25&i=SUDOKU_PUZZLE_16x16_06\\n',\n",
       " 'Time:            16950.815 ms\\n',\n",
       " 'Methods:         7301\\n',\n",
       " '\\n',\n",
       " '\\n',\n",
       " '> Query:\\ts=CP&un=625&n1=25&n2=25&i=SUDOKU_PUZZLE_25x25_01\\n',\n",
       " 'Time:            16839.8121 ms\\n',\n",
       " 'Methods:         7301\\n',\n",
       " '\\n',\n",
       " '\\n',\n",
       " '> Query:\\ts=CP&un=81&n1=9&n2=9&i=SUDOKU_PUZZLE_9x9_101\\n',\n",
       " 'Time:            1072.2156 ms\\n',\n",
       " 'Methods:         706\\n',\n",
       " '\\n',\n",
       " '\\n',\n",
       " '> Query:\\ts=CP&un=81&n1=9&n2=9&i=SUDOKU_PUZZLE_9x9_102\\n',\n",
       " 'Time:            1126.0002 ms\\n',\n",
       " 'Methods:         722\\n',\n",
       " '\\n',\n",
       " '\\n',\n",
       " '> Query:\\ts=CP&un=81&n1=9&n2=9&i=SUDOKU_PUZZLE_9x9_103\\n',\n",
       " 'Time:            1465.3207 ms\\n',\n",
       " 'Methods:         824\\n',\n",
       " '\\n',\n",
       " '\\n',\n",
       " '> Query:\\ts=CP&un=81&n1=9&n2=9&i=SUDOKU_PUZZLE_9x9_104\\n',\n",
       " 'Time:            1001.1993 ms\\n',\n",
       " 'Methods:         706\\n',\n",
       " '\\n',\n",
       " '\\n',\n",
       " '> Query:\\ts=CP&un=81&n1=9&n2=9&i=SUDOKU_PUZZLE_9x9_105\\n',\n",
       " 'Time:            1280.4011 ms\\n',\n",
       " 'Methods:         746\\n',\n",
       " '\\n',\n",
       " '\\n',\n",
       " '> Query:\\ts=CP&un=256&n1=16&n2=16&i=SUDOKU_PUZZLE_16x16_01\\n',\n",
       " 'Time:            5599.4888 ms\\n',\n",
       " 'Methods:         2675\\n',\n",
       " '\\n',\n",
       " '\\n',\n",
       " '> Query:\\ts=CP&un=256&n1=16&n2=16&i=SUDOKU_PUZZLE_16x16_02\\n',\n",
       " 'Time:            11362.104099999999 ms\\n',\n",
       " 'Methods:         4269\\n',\n",
       " '\\n',\n",
       " '\\n',\n",
       " '> Query:\\ts=CP&un=256&n1=16&n2=16&i=SUDOKU_PUZZLE_16x16_03\\n',\n",
       " 'Time:            4295.149899999999 ms\\n',\n",
       " 'Methods:         2384\\n',\n",
       " '\\n',\n",
       " '\\n',\n",
       " '> Query:\\ts=CP&un=256&n1=16&n2=16&i=SUDOKU_PUZZLE_16x16_04\\n',\n",
       " 'Time:            4473.2333 ms\\n',\n",
       " 'Methods:         2423\\n',\n",
       " '\\n',\n",
       " '\\n',\n",
       " '> Query:\\ts=CP&un=625&n1=25&n2=25&i=SUDOKU_PUZZLE_16x16_05\\n',\n",
       " 'Time:            36904.2517 ms\\n',\n",
       " 'Methods:         12186\\n',\n",
       " '\\n',\n",
       " '\\n',\n",
       " '> Query:\\ts=CP&un=625&n1=25&n2=25&i=SUDOKU_PUZZLE_16x16_06\\n',\n",
       " 'Time:            16828.7839 ms\\n',\n",
       " 'Methods:         7301\\n',\n",
       " '\\n',\n",
       " '\\n',\n",
       " '> Query:\\ts=CP&un=625&n1=25&n2=25&i=SUDOKU_PUZZLE_25x25_01\\n',\n",
       " 'Time:            17008.6794 ms\\n',\n",
       " 'Methods:         7301\\n']"
      ]
     },
     "execution_count": 473,
     "metadata": {},
     "output_type": "execute_result"
    }
   ],
   "source": [
    "lines\n"
   ]
  },
  {
   "cell_type": "code",
   "execution_count": 474,
   "metadata": {},
   "outputs": [
    {
     "data": {
      "text/plain": [
       "False"
      ]
     },
     "execution_count": 474,
     "metadata": {},
     "output_type": "execute_result"
    }
   ],
   "source": [
    "# for line in lines:\n",
    "# #     if \"Query\" in line:\n",
    "# #         print(line)\n",
    "#     if \"ICounter\" in line:\n",
    "#         ic.append(int(line.split(\"\\t\")[-1]))\n",
    "lines[-1].startswith(\"Not Taken\")"
   ]
  },
  {
   "cell_type": "code",
   "execution_count": 475,
   "metadata": {},
   "outputs": [],
   "source": [
    "def get_array(filter_name):\n",
    "    a=[]\n",
    "    \n",
    "    for line in lines:\n",
    "#     if \"Query\" in line:\n",
    "#         print(line)\n",
    "        if line.startswith(filter_name):\n",
    "#             try:\n",
    "#             a.append(int(line.split(\"\\t\")[-1]))\n",
    "            a.append(int(line.split(\":\")[-1]))\n",
    "    \n",
    "    a=np.array(a)\n",
    "    \n",
    "    print(\"{} - mean:{}, std:{}, min:{}, max:{}\".format(filter_name,a.mean(),a.std(),a.min(),a.max()))\n",
    "    \n",
    "    return a\n",
    "    "
   ]
  },
  {
   "cell_type": "code",
   "execution_count": 476,
   "metadata": {},
   "outputs": [
    {
     "name": "stdout",
     "output_type": "stream",
     "text": [
      "> ICounter - mean:1425387648.7272727, std:1437126904.4143894, min:236751531, max:4074278913\n",
      "> BCounter - mean:610819222.3636364, std:615845724.2016894, min:101455681, max:1745930544\n",
      "> MCounter - mean:2738.4545454545455, std:2415.25144046353, min:712, max:7307\n",
      "Field load - mean:26093.454545454544, std:29934.532054783198, min:3187, max:84744\n",
      "Field store - mean:8.181818181818182, std:3.737237234744448, min:7, max:20\n",
      "Regular load - mean:203740300.45454547, std:205425224.49724478, min:33838708, max:582387277\n",
      "Regular store - mean:203579847.27272728, std:205253813.4130565, min:33814510, max:581896328\n",
      "Field load - mean:26093.454545454544, std:29934.532054783198, min:3187, max:84744\n",
      "Field load - mean:26093.454545454544, std:29934.532054783198, min:3187, max:84744\n",
      "Methods: - mean:3272.657142857143, std:3211.714663921591, min:706, max:12186\n"
     ]
    }
   ],
   "source": [
    "ic=get_array('> ICounter')\n",
    "bc=get_array('> BCounter')\n",
    "mc=get_array('> MCounter')\n",
    "\n",
    "\n",
    "\n",
    "fl=get_array('Field load')\n",
    "fs=get_array('Field store')\n",
    "rl=get_array('Regular load')\n",
    "rs=get_array('Regular store')\n",
    "\n",
    "taken=get_array('Field load')\n",
    "not_taken=get_array('Field load')\n",
    "\n",
    "methods=get_array('Methods:')[:len(ic)]"
   ]
  },
  {
   "cell_type": "code",
   "execution_count": 443,
   "metadata": {},
   "outputs": [],
   "source": [
    "import inspect\n",
    "\n",
    "\n",
    "\n",
    "def retrieve_name(var):\n",
    "    callers_local_vars = inspect.currentframe().f_back.f_locals.items()\n",
    "    return [var_name for var_name, var_val in callers_local_vars if var_val is var]\n"
   ]
  },
  {
   "cell_type": "code",
   "execution_count": 444,
   "metadata": {},
   "outputs": [],
   "source": [
    "from scipy.stats import spearmanr"
   ]
  },
  {
   "cell_type": "code",
   "execution_count": 417,
   "metadata": {},
   "outputs": [
    {
     "data": {
      "text/plain": [
       "array([[1.        , 0.97322093],\n",
       "       [0.97322093, 1.        ]])"
      ]
     },
     "execution_count": 417,
     "metadata": {},
     "output_type": "execute_result"
    }
   ],
   "source": [
    "np.corrcoef(ic,not_taken)"
   ]
  },
  {
   "cell_type": "code",
   "execution_count": 418,
   "metadata": {},
   "outputs": [
    {
     "name": "stdout",
     "output_type": "stream",
     "text": [
      "metric: bc corr:0.9999999997054556\n",
      "metric: mc corr:0.9975749519004097\n",
      "metric: fl corr:0.9732209308993512\n",
      "metric: fs corr:-0.27227206518275104\n",
      "metric: rl corr:0.9999999895189206\n",
      "metric: rs corr:0.9999999984023467\n",
      "metric: taken corr:0.9732209308993512\n",
      "metric: not_taken corr:0.9732209308993512\n"
     ]
    }
   ],
   "source": [
    "for metric in [bc,mc,fl,fs,rl,rs,taken,not_taken]:\n",
    "    corr=np.corrcoef(ic,metric)[0][1]\n",
    "    print(\"metric: {} corr:{}\".format(retrieve_name(metric)[0],corr))"
   ]
  },
  {
   "cell_type": "code",
   "execution_count": 434,
   "metadata": {},
   "outputs": [
    {
     "data": {
      "text/plain": [
       "36"
      ]
     },
     "execution_count": 434,
     "metadata": {},
     "output_type": "execute_result"
    }
   ],
   "source": [
    "len(methods)"
   ]
  },
  {
   "cell_type": "code",
   "execution_count": 445,
   "metadata": {},
   "outputs": [
    {
     "data": {
      "text/plain": [
       "array([[1.        , 0.99757495],\n",
       "       [0.99757495, 1.        ]])"
      ]
     },
     "execution_count": 445,
     "metadata": {},
     "output_type": "execute_result"
    }
   ],
   "source": [
    "np.corrcoef(ic,methods[:len(ic)])"
   ]
  },
  {
   "cell_type": "code",
   "execution_count": 420,
   "metadata": {},
   "outputs": [
    {
     "data": {
      "text/plain": [
       "SpearmanrResult(correlation=1.0, pvalue=0.0)"
      ]
     },
     "execution_count": 420,
     "metadata": {},
     "output_type": "execute_result"
    }
   ],
   "source": [
    "spearmanr(ic,not_taken)"
   ]
  },
  {
   "cell_type": "code",
   "execution_count": 421,
   "metadata": {},
   "outputs": [
    {
     "data": {
      "text/plain": [
       "SpearmanrResult(correlation=-0.2004561009344103, pvalue=0.5545252303435375)"
      ]
     },
     "execution_count": 421,
     "metadata": {},
     "output_type": "execute_result"
    }
   ],
   "source": [
    "spearmanr(ic,fs)"
   ]
  },
  {
   "cell_type": "code",
   "execution_count": 446,
   "metadata": {},
   "outputs": [
    {
     "data": {
      "image/png": "[encoded data removed]",
      "text/plain": [
       "<Figure size 432x288 with 1 Axes>"
      ]
     },
     "metadata": {
      "needs_background": "light"
     },
     "output_type": "display_data"
    }
   ],
   "source": [
    "plt.scatter(taken, ic,  color='gray')\n",
    "# plt.plot(X_test, y_pred, color='red', linewidth=2)\n",
    "plt.show()"
   ]
  },
  {
   "cell_type": "markdown",
   "metadata": {},
   "source": [
    "### linear regression"
   ]
  },
  {
   "cell_type": "code",
   "execution_count": 447,
   "metadata": {},
   "outputs": [],
   "source": [
    "from sklearn.linear_model import LinearRegression\n",
    "from sklearn import metrics"
   ]
  },
  {
   "cell_type": "code",
   "execution_count": 456,
   "metadata": {},
   "outputs": [],
   "source": [
    "X_test=mc.reshape(-1,1)\n",
    "y_test=ic.reshape(-1,1)"
   ]
  },
  {
   "cell_type": "code",
   "execution_count": 457,
   "metadata": {},
   "outputs": [],
   "source": [
    "model = LinearRegression()"
   ]
  },
  {
   "cell_type": "code",
   "execution_count": 458,
   "metadata": {},
   "outputs": [
    {
     "data": {
      "text/plain": [
       "LinearRegression(copy_X=True, fit_intercept=True, n_jobs=None, normalize=False)"
      ]
     },
     "execution_count": 458,
     "metadata": {},
     "output_type": "execute_result"
    }
   ],
   "source": [
    "model.fit(X_test,y_test)"
   ]
  },
  {
   "cell_type": "code",
   "execution_count": 459,
   "metadata": {},
   "outputs": [
    {
     "name": "stdout",
     "output_type": "stream",
     "text": [
      "[-1.25571856e+08]\n",
      "[[457462.1961637]]\n"
     ]
    }
   ],
   "source": [
    "#To retrieve the intercept:\n",
    "print(model.intercept_)\n",
    "#For retrieving the slope:\n",
    "print(model.coef_)"
   ]
  },
  {
   "cell_type": "code",
   "execution_count": 460,
   "metadata": {},
   "outputs": [],
   "source": [
    "y_pred = model.predict(X_test)"
   ]
  },
  {
   "cell_type": "code",
   "execution_count": 461,
   "metadata": {},
   "outputs": [
    {
     "data": {
      "text/plain": [
       "array([2.82026961e+08, 2.63271011e+08, 3.79923871e+08, 2.23471800e+08,\n",
       "       2.61898625e+08, 1.21067522e+09, 2.31407404e+09, 1.66081802e+09,\n",
       "       1.41607575e+09, 3.92662828e+09, 3.92662828e+09])"
      ]
     },
     "execution_count": 461,
     "metadata": {},
     "output_type": "execute_result"
    }
   ],
   "source": [
    "y_pred.reshape(-1)"
   ]
  },
  {
   "cell_type": "code",
   "execution_count": null,
   "metadata": {},
   "outputs": [],
   "source": []
  },
  {
   "cell_type": "code",
   "execution_count": null,
   "metadata": {},
   "outputs": [],
   "source": []
  },
  {
   "cell_type": "code",
   "execution_count": 462,
   "metadata": {},
   "outputs": [],
   "source": [
    "import matplotlib.pyplot as plt"
   ]
  },
  {
   "cell_type": "code",
   "execution_count": 463,
   "metadata": {},
   "outputs": [
    {
     "data": {
      "image/png": "[encoded data removed]",
      "text/plain": [
       "<Figure size 432x288 with 1 Axes>"
      ]
     },
     "metadata": {
      "needs_background": "light"
     },
     "output_type": "display_data"
    }
   ],
   "source": [
    "plt.scatter(X_test, y_test,  color='gray')\n",
    "plt.plot(X_test, y_pred, color='red', linewidth=2)\n",
    "plt.show()"
   ]
  },
  {
   "cell_type": "code",
   "execution_count": null,
   "metadata": {},
   "outputs": [],
   "source": []
  },
  {
   "cell_type": "code",
   "execution_count": null,
   "metadata": {},
   "outputs": [],
   "source": []
  }
 ],
 "metadata": {
  "kernelspec": {
   "display_name": "Python 3",
   "language": "python",
   "name": "python3"
  },
  "language_info": {
   "codemirror_mode": {
    "name": "ipython",
    "version": 3
   },
   "file_extension": ".py",
   "mimetype": "text/x-python",
   "name": "python",
   "nbconvert_exporter": "python",
   "pygments_lexer": "ipython3",
   "version": "3.7.3"
  },
  "toc": {
   "base_numbering": 1,
   "nav_menu": {},
   "number_sections": true,
   "sideBar": true,
   "skip_h1_title": false,
   "title_cell": "Table of Contents",
   "title_sidebar": "Contents",
   "toc_cell": false,
   "toc_position": {},
   "toc_section_display": true,
   "toc_window_display": false
  },
  "varInspector": {
   "cols": {
    "lenName": 16,
    "lenType": 16,
    "lenVar": 40
   },
   "kernels_config": {
    "python": {
     "delete_cmd_postfix": "",
     "delete_cmd_prefix": "del ",
     "library": "var_list.py",
     "varRefreshCmd": "print(var_dic_list())"
    },
    "r": {
     "delete_cmd_postfix": ") ",
     "delete_cmd_prefix": "rm(",
     "library": "var_list.r",
     "varRefreshCmd": "cat(var_dic_list()) "
    }
   },
   "types_to_exclude": [
    "module",
    "function",
    "builtin_function_or_method",
    "instance",
    "_Feature"
   ],
   "window_display": false
  }
 },
 "nbformat": 4,
 "nbformat_minor": 2
}
