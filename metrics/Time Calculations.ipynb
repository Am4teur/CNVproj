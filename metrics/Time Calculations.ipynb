{
 "cells": [
  {
   "cell_type": "code",
   "execution_count": 2,
   "metadata": {},
   "outputs": [],
   "source": [
    "import os\n",
    "import numpy as np"
   ]
  },
  {
   "cell_type": "code",
   "execution_count": 4,
   "metadata": {},
   "outputs": [],
   "source": [
    "# file_paths=[\"./BD_ICount_DLX.txt\",\"./BD_ICount_CP.txt\",\"./BD_ICount_BFS.txt\"][2:3]\n",
    "# file_paths=[\"BD_StatLS_BFS.txt\",\"./BD_ICount_BFS.txt\",\"BD_StatBranch_BFS.txt\"]\n",
    "# file_paths=[\"BD_StatLS_DLX.txt\",\"./BD_ICount_DLX.txt\",\"BD_StatBranch_DLX.txt\"]\n",
    "# file_paths=[\"BD_StatLS_CP.txt\",\"./BD_ICount_CP.txt\",\"BD_StatBranch_CP.txt\"]\n",
    "# file_paths=[\"BD_StatLS_CP.txt\",\"./BD_ICount_CP.txt\",\"BD_StatBranch_CP.txt\",\"BD_StatLS_BFS.txt\",\"./BD_ICount_BFS.txt\",\"BD_StatBranch_BFS.txt\",\"BD_StatLS_DLX.txt\",\"./BD_ICount_DLX.txt\",\"BD_StatBranch_DLX.txt\"]\n",
    "\n",
    "\n",
    "# file_paths=[f'BD_NoInstrTimeBaseline_BFS_{i}.txt' for i in range(1,4)]\n",
    "\n",
    "# file_paths=['bd_icount_hash_bfs.txt']\n"
   ]
  },
  {
   "cell_type": "code",
   "execution_count": null,
   "metadata": {},
   "outputs": [],
   "source": [
    "\n"
   ]
  },
  {
   "cell_type": "code",
   "execution_count": 33,
   "metadata": {},
   "outputs": [],
   "source": [
    "\n",
    "def get_array(file_paths,div=3):\n",
    "    filter_name=\"Time\"\n",
    "    lines=[]\n",
    "\n",
    "    for file_path in file_paths:\n",
    "        with open(file_path,\"r\") as f:\n",
    "            lines+=f.readlines()\n",
    "    \n",
    "    times_dict={}\n",
    "    \n",
    "    key=None\n",
    "    \n",
    "    for line in lines:\n",
    "#     if \"Query\" in line:\n",
    "#         print(line)\n",
    "        if line.startswith(\"> Query:\"):\n",
    "            key=line.split(\"\\t\")[-1]\n",
    "            if key not in times_dict.keys():\n",
    "                times_dict[key]=0\n",
    "        if line.startswith(filter_name):\n",
    "#             try:\n",
    "#             a.append(int(line.split(\"\\t\")[-1]))\n",
    "            times_dict[key]+=float(line.split(\" \")[-2])\n",
    "    \n",
    "#     a=np.array(a)\n",
    "    \n",
    "#     print(\"{} - mean:{}, std:{}, min:{}, max:{}\".format(filter_name,a.mean(),a.std(),a.min(),a.max()))\n",
    "    \n",
    "    # doing mean\n",
    "    \n",
    "\n",
    "    for key in times_dict.keys():\n",
    "        times_dict[key]/=div\n",
    "        \n",
    "    print(times_dict)\n",
    "    \n",
    "    return times_dict\n",
    "    "
   ]
  },
  {
   "cell_type": "code",
   "execution_count": 34,
   "metadata": {},
   "outputs": [
    {
     "name": "stdout",
     "output_type": "stream",
     "text": [
      "{'s=BFS&un=81&n1=9&n2=9&i=SUDOKU_PUZZLE_9x9_101\\n': 1191.2635, 's=BFS&un=81&n1=9&n2=9&i=SUDOKU_PUZZLE_9x9_102\\n': 1170.9375, 's=BFS&un=81&n1=9&n2=9&i=SUDOKU_PUZZLE_9x9_103\\n': 1880.2756666666664, 's=BFS&un=81&n1=9&n2=9&i=SUDOKU_PUZZLE_9x9_104\\n': 888.7948333333334, 's=BFS&un=81&n1=9&n2=9&i=SUDOKU_PUZZLE_9x9_105\\n': 1146.6698999999999, 's=BFS&un=256&n1=16&n2=16&i=SUDOKU_PUZZLE_16x16_01\\n': 4863.2058, 's=BFS&un=256&n1=16&n2=16&i=SUDOKU_PUZZLE_16x16_02\\n': 10980.628600000002, 's=BFS&un=256&n1=16&n2=16&i=SUDOKU_PUZZLE_16x16_03\\n': 7016.5181, 's=BFS&un=256&n1=16&n2=16&i=SUDOKU_PUZZLE_16x16_04\\n': 5983.797333333333, 's=BFS&un=625&n1=25&n2=25&i=SUDOKU_PUZZLE_16x16_05\\n': 5589.136766666666, 's=BFS&un=625&n1=25&n2=25&i=SUDOKU_PUZZLE_16x16_06\\n': 16052.239599999999, 's=BFS&un=625&n1=25&n2=25&i=SUDOKU_PUZZLE_25x25_01\\n': 16112.267700000002}\n",
      "{'s=CP&un=81&n1=9&n2=9&i=SUDOKU_PUZZLE_9x9_101\\n': 1099.7871333333335, 's=CP&un=81&n1=9&n2=9&i=SUDOKU_PUZZLE_9x9_102\\n': 1134.0679333333333, 's=CP&un=81&n1=9&n2=9&i=SUDOKU_PUZZLE_9x9_103\\n': 1555.4245, 's=CP&un=81&n1=9&n2=9&i=SUDOKU_PUZZLE_9x9_104\\n': 1027.9499999999998, 's=CP&un=81&n1=9&n2=9&i=SUDOKU_PUZZLE_9x9_105\\n': 1249.9742333333334, 's=CP&un=256&n1=16&n2=16&i=SUDOKU_PUZZLE_16x16_01\\n': 6103.197566666667, 's=CP&un=256&n1=16&n2=16&i=SUDOKU_PUZZLE_16x16_02\\n': 12062.377766666667, 's=CP&un=256&n1=16&n2=16&i=SUDOKU_PUZZLE_16x16_03\\n': 4729.9974999999995, 's=CP&un=256&n1=16&n2=16&i=SUDOKU_PUZZLE_16x16_04\\n': 4789.7396, 's=CP&un=625&n1=25&n2=25&i=SUDOKU_PUZZLE_16x16_05\\n': 37615.80423333333, 's=CP&un=625&n1=25&n2=25&i=SUDOKU_PUZZLE_16x16_06\\n': 17397.405600000002, 's=CP&un=625&n1=25&n2=25&i=SUDOKU_PUZZLE_25x25_01\\n': 17337.271999999997}\n",
      "{'s=DLX&un=81&n1=9&n2=9&i=SUDOKU_PUZZLE_9x9_101\\n': 2447.8440333333333, 's=DLX&un=81&n1=9&n2=9&i=SUDOKU_PUZZLE_9x9_102\\n': 2488.7018666666663, 's=DLX&un=81&n1=9&n2=9&i=SUDOKU_PUZZLE_9x9_103\\n': 2373.3775666666666, 's=DLX&un=81&n1=9&n2=9&i=SUDOKU_PUZZLE_9x9_104\\n': 2358.9275666666667, 's=DLX&un=81&n1=9&n2=9&i=SUDOKU_PUZZLE_9x9_105\\n': 2347.7876666666666, 's=DLX&un=256&n1=16&n2=16&i=SUDOKU_PUZZLE_16x16_01\\n': 7497.9532, 's=DLX&un=256&n1=16&n2=16&i=SUDOKU_PUZZLE_16x16_02\\n': 7440.015200000001, 's=DLX&un=256&n1=16&n2=16&i=SUDOKU_PUZZLE_16x16_03\\n': 7465.6732, 's=DLX&un=256&n1=16&n2=16&i=SUDOKU_PUZZLE_16x16_04\\n': 7473.1443, 's=DLX&un=625&n1=25&n2=25&i=SUDOKU_PUZZLE_16x16_05\\n': 1326.5601, 's=DLX&un=625&n1=25&n2=25&i=SUDOKU_PUZZLE_16x16_06\\n': 17190.26583333333, 's=DLX&un=625&n1=25&n2=25&i=SUDOKU_PUZZLE_25x25_01\\n': 17189.5236}\n",
      "{'s=BFS&un=81&n1=9&n2=9&i=SUDOKU_PUZZLE_9x9_101\\n': 1295.3909999999998, 's=BFS&un=81&n1=9&n2=9&i=SUDOKU_PUZZLE_9x9_102\\n': 1147.3333, 's=BFS&un=81&n1=9&n2=9&i=SUDOKU_PUZZLE_9x9_103\\n': 1788.0248, 's=BFS&un=81&n1=9&n2=9&i=SUDOKU_PUZZLE_9x9_104\\n': 886.6189333333333, 's=BFS&un=81&n1=9&n2=9&i=SUDOKU_PUZZLE_9x9_105\\n': 1118.228933333333, 's=BFS&un=256&n1=16&n2=16&i=SUDOKU_PUZZLE_16x16_01\\n': 4621.602633333333, 's=BFS&un=256&n1=16&n2=16&i=SUDOKU_PUZZLE_16x16_02\\n': 10867.909966666666, 's=BFS&un=256&n1=16&n2=16&i=SUDOKU_PUZZLE_16x16_03\\n': 7073.770733333334, 's=BFS&un=256&n1=16&n2=16&i=SUDOKU_PUZZLE_16x16_04\\n': 5747.0721, 's=BFS&un=625&n1=25&n2=25&i=SUDOKU_PUZZLE_16x16_05\\n': 5283.720933333333, 's=BFS&un=625&n1=25&n2=25&i=SUDOKU_PUZZLE_16x16_06\\n': 16299.7615, 's=BFS&un=625&n1=25&n2=25&i=SUDOKU_PUZZLE_25x25_01\\n': 16058.471566666665}\n",
      "{'s=CP&un=81&n1=9&n2=9&i=SUDOKU_PUZZLE_9x9_101\\n': 1176.1575333333333, 's=CP&un=81&n1=9&n2=9&i=SUDOKU_PUZZLE_9x9_102\\n': 1228.3047666666666, 's=CP&un=81&n1=9&n2=9&i=SUDOKU_PUZZLE_9x9_103\\n': 1613.2821999999999, 's=CP&un=81&n1=9&n2=9&i=SUDOKU_PUZZLE_9x9_104\\n': 1084.6461666666667, 's=CP&un=81&n1=9&n2=9&i=SUDOKU_PUZZLE_9x9_105\\n': 1261.6500666666668, 's=CP&un=256&n1=16&n2=16&i=SUDOKU_PUZZLE_16x16_01\\n': 6129.6446, 's=CP&un=256&n1=16&n2=16&i=SUDOKU_PUZZLE_16x16_02\\n': 12042.847399999999, 's=CP&un=256&n1=16&n2=16&i=SUDOKU_PUZZLE_16x16_03\\n': 4820.549133333333, 's=CP&un=256&n1=16&n2=16&i=SUDOKU_PUZZLE_16x16_04\\n': 5035.49, 's=CP&un=625&n1=25&n2=25&i=SUDOKU_PUZZLE_16x16_05\\n': 37851.26383333334, 's=CP&un=625&n1=25&n2=25&i=SUDOKU_PUZZLE_16x16_06\\n': 17468.71483333333, 's=CP&un=625&n1=25&n2=25&i=SUDOKU_PUZZLE_25x25_01\\n': 17450.523833333333}\n",
      "{'s=DLX&un=81&n1=9&n2=9&i=SUDOKU_PUZZLE_9x9_101\\n': 2564.7219, 's=DLX&un=81&n1=9&n2=9&i=SUDOKU_PUZZLE_9x9_102\\n': 2502.130033333333, 's=DLX&un=81&n1=9&n2=9&i=SUDOKU_PUZZLE_9x9_103\\n': 2378.348, 's=DLX&un=81&n1=9&n2=9&i=SUDOKU_PUZZLE_9x9_104\\n': 2428.115766666667, 's=DLX&un=81&n1=9&n2=9&i=SUDOKU_PUZZLE_9x9_105\\n': 2366.3170333333333, 's=DLX&un=256&n1=16&n2=16&i=SUDOKU_PUZZLE_16x16_01\\n': 7627.2408, 's=DLX&un=256&n1=16&n2=16&i=SUDOKU_PUZZLE_16x16_02\\n': 7492.524766666666, 's=DLX&un=256&n1=16&n2=16&i=SUDOKU_PUZZLE_16x16_03\\n': 7524.302866666666, 's=DLX&un=256&n1=16&n2=16&i=SUDOKU_PUZZLE_16x16_04\\n': 7435.652399999999, 's=DLX&un=625&n1=25&n2=25&i=SUDOKU_PUZZLE_16x16_05\\n': 3251.2742, 's=DLX&un=625&n1=25&n2=25&i=SUDOKU_PUZZLE_16x16_06\\n': 19417.248766666668, 's=DLX&un=625&n1=25&n2=25&i=SUDOKU_PUZZLE_25x25_01\\n': 19391.421633333335}\n",
      "{'s=BFS&un=81&n1=9&n2=9&i=SUDOKU_PUZZLE_9x9_101\\n': 1274.7593, 's=BFS&un=81&n1=9&n2=9&i=SUDOKU_PUZZLE_9x9_102\\n': 1141.0946999999999, 's=BFS&un=81&n1=9&n2=9&i=SUDOKU_PUZZLE_9x9_103\\n': 1786.2493666666667, 's=BFS&un=81&n1=9&n2=9&i=SUDOKU_PUZZLE_9x9_104\\n': 894.6609666666667, 's=BFS&un=81&n1=9&n2=9&i=SUDOKU_PUZZLE_9x9_105\\n': 1146.2842, 's=BFS&un=256&n1=16&n2=16&i=SUDOKU_PUZZLE_16x16_01\\n': 4738.3776333333335, 's=BFS&un=256&n1=16&n2=16&i=SUDOKU_PUZZLE_16x16_02\\n': 11090.6036, 's=BFS&un=256&n1=16&n2=16&i=SUDOKU_PUZZLE_16x16_03\\n': 7319.642, 's=BFS&un=256&n1=16&n2=16&i=SUDOKU_PUZZLE_16x16_04\\n': 5978.5043000000005, 's=BFS&un=625&n1=25&n2=25&i=SUDOKU_PUZZLE_16x16_05\\n': 5398.351933333332, 's=BFS&un=625&n1=25&n2=25&i=SUDOKU_PUZZLE_16x16_06\\n': 16586.666533333333, 's=BFS&un=625&n1=25&n2=25&i=SUDOKU_PUZZLE_25x25_01\\n': 16528.102066666666}\n",
      "{'s=CP&un=81&n1=9&n2=9&i=SUDOKU_PUZZLE_9x9_101\\n': 1103.4986999999999, 's=CP&un=81&n1=9&n2=9&i=SUDOKU_PUZZLE_9x9_102\\n': 1119.1937, 's=CP&un=81&n1=9&n2=9&i=SUDOKU_PUZZLE_9x9_103\\n': 1488.1962333333333, 's=CP&un=81&n1=9&n2=9&i=SUDOKU_PUZZLE_9x9_104\\n': 1016.1472333333335, 's=CP&un=81&n1=9&n2=9&i=SUDOKU_PUZZLE_9x9_105\\n': 1251.7555333333332, 's=CP&un=256&n1=16&n2=16&i=SUDOKU_PUZZLE_16x16_01\\n': 5628.794166666667, 's=CP&un=256&n1=16&n2=16&i=SUDOKU_PUZZLE_16x16_02\\n': 11417.608433333333, 's=CP&un=256&n1=16&n2=16&i=SUDOKU_PUZZLE_16x16_03\\n': 4332.647133333333, 's=CP&un=256&n1=16&n2=16&i=SUDOKU_PUZZLE_16x16_04\\n': 4473.6369, 's=CP&un=625&n1=25&n2=25&i=SUDOKU_PUZZLE_16x16_05\\n': 36987.79893333333, 's=CP&un=625&n1=25&n2=25&i=SUDOKU_PUZZLE_16x16_06\\n': 16977.467866666662, 's=CP&un=625&n1=25&n2=25&i=SUDOKU_PUZZLE_25x25_01\\n': 16989.946166666665}\n",
      "{'s=BFS&un=81&n1=9&n2=9&i=SUDOKU_PUZZLE_9x9_101\\n': 1274.7593, 's=BFS&un=81&n1=9&n2=9&i=SUDOKU_PUZZLE_9x9_102\\n': 1141.0946999999999, 's=BFS&un=81&n1=9&n2=9&i=SUDOKU_PUZZLE_9x9_103\\n': 1786.2493666666667, 's=BFS&un=81&n1=9&n2=9&i=SUDOKU_PUZZLE_9x9_104\\n': 894.6609666666667, 's=BFS&un=81&n1=9&n2=9&i=SUDOKU_PUZZLE_9x9_105\\n': 1146.2842, 's=BFS&un=256&n1=16&n2=16&i=SUDOKU_PUZZLE_16x16_01\\n': 4738.3776333333335, 's=BFS&un=256&n1=16&n2=16&i=SUDOKU_PUZZLE_16x16_02\\n': 11090.6036, 's=BFS&un=256&n1=16&n2=16&i=SUDOKU_PUZZLE_16x16_03\\n': 7319.642, 's=BFS&un=256&n1=16&n2=16&i=SUDOKU_PUZZLE_16x16_04\\n': 5978.5043000000005, 's=BFS&un=625&n1=25&n2=25&i=SUDOKU_PUZZLE_16x16_05\\n': 5398.351933333332, 's=BFS&un=625&n1=25&n2=25&i=SUDOKU_PUZZLE_16x16_06\\n': 16586.666533333333, 's=BFS&un=625&n1=25&n2=25&i=SUDOKU_PUZZLE_25x25_01\\n': 16528.102066666666, 's=DLX&un=81&n1=9&n2=9&i=SUDOKU_PUZZLE_9x9_101\\n': 2343.0849000000003, 's=DLX&un=81&n1=9&n2=9&i=SUDOKU_PUZZLE_9x9_102\\n': 2361.1214999999997, 's=DLX&un=81&n1=9&n2=9&i=SUDOKU_PUZZLE_9x9_103\\n': 2283.500833333333, 's=DLX&un=81&n1=9&n2=9&i=SUDOKU_PUZZLE_9x9_104\\n': 2314.902, 's=DLX&un=81&n1=9&n2=9&i=SUDOKU_PUZZLE_9x9_105\\n': 2278.1758333333332, 's=DLX&un=256&n1=16&n2=16&i=SUDOKU_PUZZLE_16x16_01\\n': 7099.1699666666655, 's=DLX&un=256&n1=16&n2=16&i=SUDOKU_PUZZLE_16x16_02\\n': 7037.094133333333, 's=DLX&un=256&n1=16&n2=16&i=SUDOKU_PUZZLE_16x16_03\\n': 7080.717199999999, 's=DLX&un=256&n1=16&n2=16&i=SUDOKU_PUZZLE_16x16_04\\n': 7022.5109, 's=DLX&un=625&n1=25&n2=25&i=SUDOKU_PUZZLE_16x16_05\\n': 1304.6431666666665, 's=DLX&un=625&n1=25&n2=25&i=SUDOKU_PUZZLE_16x16_06\\n': 17162.57, 's=DLX&un=625&n1=25&n2=25&i=SUDOKU_PUZZLE_25x25_01\\n': 17183.314133333333}\n",
      "{'s=BFS&un=81&n1=9&n2=9&i=SUDOKU_PUZZLE_9x9_101\\n': 5287.334199999999, 's=BFS&un=81&n1=9&n2=9&i=SUDOKU_PUZZLE_9x9_102\\n': 4293.877399999999, 's=BFS&un=81&n1=9&n2=9&i=SUDOKU_PUZZLE_9x9_103\\n': 6745.7503, 's=BFS&un=81&n1=9&n2=9&i=SUDOKU_PUZZLE_9x9_104\\n': 3315.5919, 's=BFS&un=81&n1=9&n2=9&i=SUDOKU_PUZZLE_9x9_105\\n': 4227.6093, 's=BFS&un=256&n1=16&n2=16&i=SUDOKU_PUZZLE_16x16_01\\n': 18258.3117, 's=BFS&un=256&n1=16&n2=16&i=SUDOKU_PUZZLE_16x16_02\\n': 42181.3636, 's=BFS&un=256&n1=16&n2=16&i=SUDOKU_PUZZLE_16x16_03\\n': 27472.633299999998, 's=BFS&un=256&n1=16&n2=16&i=SUDOKU_PUZZLE_16x16_04\\n': 22295.807999999997, 's=BFS&un=625&n1=25&n2=25&i=SUDOKU_PUZZLE_16x16_05\\n': 20580.9017, 's=BFS&un=625&n1=25&n2=25&i=SUDOKU_PUZZLE_16x16_06\\n': 64070.9739, 's=BFS&un=625&n1=25&n2=25&i=SUDOKU_PUZZLE_25x25_01\\n': 63488.9863}\n",
      "{'s=CP&un=81&n1=9&n2=9&i=SUDOKU_PUZZLE_9x9_101\\n': 4857.0072, 's=CP&un=81&n1=9&n2=9&i=SUDOKU_PUZZLE_9x9_102\\n': 4320.053, 's=CP&un=81&n1=9&n2=9&i=SUDOKU_PUZZLE_9x9_103\\n': 6013.8128, 's=CP&un=81&n1=9&n2=9&i=SUDOKU_PUZZLE_9x9_104\\n': 5805.1696, 's=CP&un=81&n1=9&n2=9&i=SUDOKU_PUZZLE_9x9_105\\n': 4979.721, 's=CP&un=256&n1=16&n2=16&i=SUDOKU_PUZZLE_16x16_01\\n': 27217.133299999998, 's=CP&un=256&n1=16&n2=16&i=SUDOKU_PUZZLE_16x16_02\\n': 46218.29, 's=CP&un=256&n1=16&n2=16&i=SUDOKU_PUZZLE_16x16_03\\n': 47722.931899999996, 's=CP&un=256&n1=16&n2=16&i=SUDOKU_PUZZLE_16x16_04\\n': 17742.5781, 's=CP&un=625&n1=25&n2=25&i=SUDOKU_PUZZLE_16x16_05\\n': 159716.5865, 's=CP&un=625&n1=25&n2=25&i=SUDOKU_PUZZLE_16x16_06\\n': 75208.56019999999, 's=CP&un=625&n1=25&n2=25&i=SUDOKU_PUZZLE_25x25_01\\n': 76761.4443}\n",
      "{'s=DLX&un=81&n1=9&n2=9&i=SUDOKU_PUZZLE_9x9_101\\n': 9812.9255, 's=DLX&un=81&n1=9&n2=9&i=SUDOKU_PUZZLE_9x9_102\\n': 9125.5963, 's=DLX&un=81&n1=9&n2=9&i=SUDOKU_PUZZLE_9x9_103\\n': 9264.8743, 's=DLX&un=81&n1=9&n2=9&i=SUDOKU_PUZZLE_9x9_104\\n': 9080.3548, 's=DLX&un=81&n1=9&n2=9&i=SUDOKU_PUZZLE_9x9_105\\n': 9087.4987, 's=DLX&un=256&n1=16&n2=16&i=SUDOKU_PUZZLE_16x16_01\\n': 28916.517, 's=DLX&un=256&n1=16&n2=16&i=SUDOKU_PUZZLE_16x16_02\\n': 28526.8229, 's=DLX&un=256&n1=16&n2=16&i=SUDOKU_PUZZLE_16x16_03\\n': 28795.9214, 's=DLX&un=256&n1=16&n2=16&i=SUDOKU_PUZZLE_16x16_04\\n': 31452.010599999998, 's=DLX&un=625&n1=25&n2=25&i=SUDOKU_PUZZLE_16x16_05\\n': 11772.0738, 's=DLX&un=625&n1=25&n2=25&i=SUDOKU_PUZZLE_16x16_06\\n': 92738.3658, 's=DLX&un=625&n1=25&n2=25&i=SUDOKU_PUZZLE_25x25_01\\n': 86780.5019}\n"
     ]
    }
   ],
   "source": [
    "BFS_no=get_array([f'BD_NoInstrTimeBaseline_BFS_{i}.txt' for i in range(1,4)])\n",
    "CP_no=get_array([f'BD_NoInstrTimeBaseline_CP_{i}.txt' for i in range(1,4)])\n",
    "DLX_no=get_array([f'BD_NoInstrTimeBaseline_DLX_{i}.txt' for i in range(1,4)])\n",
    "\n",
    "\n",
    "BFS_fl=get_array([f'BD_FieldLoad_BFS_{i}.txt' for i in range(1,4)])\n",
    "CP_fl=get_array([f'BD_FieldLoad_CP_{i}.txt' for i in range(1,4)])\n",
    "DLX_fl=get_array([f'BD_FieldLoad_DLX_{i}.txt' for i in range(1,4)])\n",
    "\n",
    "BFS_m=get_array([f'BD_Methods_BFS.txt'])\n",
    "CP_m=get_array([f'BD_Methods_CP.txt'])\n",
    "DLX_m=get_array([f'BD_Methods_DLX.txt'])\n",
    "\n",
    "BFS_i=get_array(['../bd_icount_hash_bfs.txt'],1)\n",
    "CP_i=get_array(['../bd_icount_hash_cp.txt'],1)\n",
    "DLX_i=get_array(['../bd_icount_hash_dlx.txt'],1)\n"
   ]
  },
  {
   "cell_type": "code",
   "execution_count": 35,
   "metadata": {},
   "outputs": [
    {
     "data": {
      "text/plain": [
       "{'s=BFS&un=81&n1=9&n2=9&i=SUDOKU_PUZZLE_9x9_101\\n': 5287.334199999999,\n",
       " 's=BFS&un=81&n1=9&n2=9&i=SUDOKU_PUZZLE_9x9_102\\n': 4293.877399999999,\n",
       " 's=BFS&un=81&n1=9&n2=9&i=SUDOKU_PUZZLE_9x9_103\\n': 6745.7503,\n",
       " 's=BFS&un=81&n1=9&n2=9&i=SUDOKU_PUZZLE_9x9_104\\n': 3315.5919,\n",
       " 's=BFS&un=81&n1=9&n2=9&i=SUDOKU_PUZZLE_9x9_105\\n': 4227.6093,\n",
       " 's=BFS&un=256&n1=16&n2=16&i=SUDOKU_PUZZLE_16x16_01\\n': 18258.3117,\n",
       " 's=BFS&un=256&n1=16&n2=16&i=SUDOKU_PUZZLE_16x16_02\\n': 42181.3636,\n",
       " 's=BFS&un=256&n1=16&n2=16&i=SUDOKU_PUZZLE_16x16_03\\n': 27472.633299999998,\n",
       " 's=BFS&un=256&n1=16&n2=16&i=SUDOKU_PUZZLE_16x16_04\\n': 22295.807999999997,\n",
       " 's=BFS&un=625&n1=25&n2=25&i=SUDOKU_PUZZLE_16x16_05\\n': 20580.9017,\n",
       " 's=BFS&un=625&n1=25&n2=25&i=SUDOKU_PUZZLE_16x16_06\\n': 64070.9739,\n",
       " 's=BFS&un=625&n1=25&n2=25&i=SUDOKU_PUZZLE_25x25_01\\n': 63488.9863}"
      ]
     },
     "execution_count": 35,
     "metadata": {},
     "output_type": "execute_result"
    }
   ],
   "source": [
    "BFS_i"
   ]
  },
  {
   "cell_type": "code",
   "execution_count": 40,
   "metadata": {},
   "outputs": [],
   "source": [
    "def calc_overhead(d_no,d2,p=True):\n",
    "    df={}\n",
    "    for key  in d_no.keys():\n",
    "        df[key]=d2[key]/d_no[key]\n",
    "#         print(d2[key],d_no[key],d2[key]/d_no[key])\n",
    "        if p: print(f\"{key}: {df[key]*100:.2f}%\")\n",
    "    return df\n"
   ]
  },
  {
   "cell_type": "code",
   "execution_count": 41,
   "metadata": {},
   "outputs": [],
   "source": [
    "def overhead_mean(d):\n",
    "    s=0\n",
    "    for k in d.keys():\n",
    "        s+=d[k]\n",
    "    return s/len(d)"
   ]
  },
  {
   "cell_type": "code",
   "execution_count": 48,
   "metadata": {},
   "outputs": [
    {
     "name": "stdout",
     "output_type": "stream",
     "text": [
      "s=DLX&un=81&n1=9&n2=9&i=SUDOKU_PUZZLE_9x9_101\n",
      ": 95.72%\n",
      "s=DLX&un=81&n1=9&n2=9&i=SUDOKU_PUZZLE_9x9_102\n",
      ": 94.87%\n",
      "s=DLX&un=81&n1=9&n2=9&i=SUDOKU_PUZZLE_9x9_103\n",
      ": 96.21%\n",
      "s=DLX&un=81&n1=9&n2=9&i=SUDOKU_PUZZLE_9x9_104\n",
      ": 98.13%\n",
      "s=DLX&un=81&n1=9&n2=9&i=SUDOKU_PUZZLE_9x9_105\n",
      ": 97.04%\n",
      "s=DLX&un=256&n1=16&n2=16&i=SUDOKU_PUZZLE_16x16_01\n",
      ": 94.68%\n",
      "s=DLX&un=256&n1=16&n2=16&i=SUDOKU_PUZZLE_16x16_02\n",
      ": 94.58%\n",
      "s=DLX&un=256&n1=16&n2=16&i=SUDOKU_PUZZLE_16x16_03\n",
      ": 94.84%\n",
      "s=DLX&un=256&n1=16&n2=16&i=SUDOKU_PUZZLE_16x16_04\n",
      ": 93.97%\n",
      "s=DLX&un=625&n1=25&n2=25&i=SUDOKU_PUZZLE_16x16_05\n",
      ": 98.35%\n",
      "s=DLX&un=625&n1=25&n2=25&i=SUDOKU_PUZZLE_16x16_06\n",
      ": 99.84%\n",
      "s=DLX&un=625&n1=25&n2=25&i=SUDOKU_PUZZLE_25x25_01\n",
      ": 99.96%\n"
     ]
    }
   ],
   "source": [
    "ov=calc_overhead(DLX_no,DLX_m)"
   ]
  },
  {
   "cell_type": "code",
   "execution_count": 49,
   "metadata": {},
   "outputs": [
    {
     "data": {
      "text/plain": [
       "96.5171519353658"
      ]
     },
     "execution_count": 49,
     "metadata": {},
     "output_type": "execute_result"
    }
   ],
   "source": [
    "overhead_mean(ov)*100"
   ]
  },
  {
   "cell_type": "code",
   "execution_count": null,
   "metadata": {},
   "outputs": [],
   "source": []
  },
  {
   "cell_type": "code",
   "execution_count": null,
   "metadata": {},
   "outputs": [],
   "source": []
  }
 ],
 "metadata": {
  "kernelspec": {
   "display_name": "Python 3",
   "language": "python",
   "name": "python3"
  },
  "language_info": {
   "codemirror_mode": {
    "name": "ipython",
    "version": 3
   },
   "file_extension": ".py",
   "mimetype": "text/x-python",
   "name": "python",
   "nbconvert_exporter": "python",
   "pygments_lexer": "ipython3",
   "version": "3.7.3"
  },
  "toc": {
   "base_numbering": 1,
   "nav_menu": {},
   "number_sections": true,
   "sideBar": true,
   "skip_h1_title": false,
   "title_cell": "Table of Contents",
   "title_sidebar": "Contents",
   "toc_cell": false,
   "toc_position": {},
   "toc_section_display": true,
   "toc_window_display": false
  },
  "varInspector": {
   "cols": {
    "lenName": 16,
    "lenType": 16,
    "lenVar": 40
   },
   "kernels_config": {
    "python": {
     "delete_cmd_postfix": "",
     "delete_cmd_prefix": "del ",
     "library": "var_list.py",
     "varRefreshCmd": "print(var_dic_list())"
    },
    "r": {
     "delete_cmd_postfix": ") ",
     "delete_cmd_prefix": "rm(",
     "library": "var_list.r",
     "varRefreshCmd": "cat(var_dic_list()) "
    }
   },
   "types_to_exclude": [
    "module",
    "function",
    "builtin_function_or_method",
    "instance",
    "_Feature"
   ],
   "window_display": false
  }
 },
 "nbformat": 4,
 "nbformat_minor": 2
}
